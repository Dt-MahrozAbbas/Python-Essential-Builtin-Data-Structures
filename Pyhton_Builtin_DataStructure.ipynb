{
 "cells": [
  {
   "cell_type": "code",
   "execution_count": 4,
   "metadata": {},
   "outputs": [
    {
     "name": "stdout",
     "output_type": "stream",
     "text": [
      "append [10, 20, 30, 40, 20, 20, 20, 50]\n",
      "insert [10, 15, 20, 30, 40, 20, 20, 20, 50]\n",
      "remove [10, 15, 20, 40, 20, 20, 20, 50]\n",
      "pop [10, 15, 20, 40, 20, 20, 20]\n",
      "sort [10, 15, 20, 20, 20, 20, 40]\n",
      "reverse [40, 20, 20, 20, 20, 15, 10]\n",
      "index 1\n",
      "count 4\n",
      "count [40, 20, 20, 20, 20, 15, 10]\n"
     ]
    }
   ],
   "source": [
    "my_list = [10, 20, 30, 40,20,20,20]\n",
    "\n",
    "# Useful methods\n",
    "my_list.append(50)            # Add element at end\n",
    "print(\"append\",my_list)\n",
    "my_list.insert(1, 15)         # Insert at specific position\n",
    "print(\"insert\",my_list)\n",
    "my_list.remove(30)            # Remove specific value\n",
    "print(\"remove\", my_list)\n",
    "my_list.pop()                 # Remove and return last item\n",
    "print(\"pop\", my_list)\n",
    "my_list.sort()                # Sort ascending\n",
    "print(\"sort\", my_list)\n",
    "my_list.reverse()             # Reverse order\n",
    "print(\"reverse\",   my_list)\n",
    "print(\"index\", my_list.index(20))     # Index of first match\n",
    "print(\"count\", my_list.count(20))     # Count occurrences\n",
    "print(\"count\", my_list)"
   ]
  },
  {
   "cell_type": "code",
   "execution_count": null,
   "metadata": {},
   "outputs": [
    {
     "ename": "TypeError",
     "evalue": "'set' object does not support item assignment",
     "output_type": "error",
     "traceback": [
      "\u001b[1;31m---------------------------------------------------------------------------\u001b[0m",
      "\u001b[1;31mTypeError\u001b[0m                                 Traceback (most recent call last)",
      "Cell \u001b[1;32mIn[7], line 2\u001b[0m\n\u001b[0;32m      1\u001b[0m my_set \u001b[38;5;241m=\u001b[39m {\u001b[38;5;241m1\u001b[39m, \u001b[38;5;241m2\u001b[39m, \u001b[38;5;241m3\u001b[39m, \u001b[38;5;241m4\u001b[39m}\n\u001b[1;32m----> 2\u001b[0m \u001b[43mmy_set\u001b[49m\u001b[43m[\u001b[49m\u001b[38;5;241;43m0\u001b[39;49m\u001b[43m]\u001b[49m\u001b[38;5;241m=\u001b[39m\u001b[38;5;241m34\u001b[39m\n\u001b[0;32m      4\u001b[0m \u001b[38;5;66;03m# Useful methods\u001b[39;00m\n\u001b[0;32m      5\u001b[0m my_set\u001b[38;5;241m.\u001b[39madd(\u001b[38;5;241m5\u001b[39m)                     \u001b[38;5;66;03m# Add element\u001b[39;00m\n",
      "\u001b[1;31mTypeError\u001b[0m: 'set' object does not support item assignment"
     ]
    }
   ],
   "source": [
    "my_set = {1, 2, 3, 4}\n",
    "# my_set[0]=34  error ('set' object does not support item assignment)\n",
    "\n",
    "# Useful methods\n",
    "my_set.add(5)                     # Add element\n",
    "print(\"add\", my_set)\n",
    "my_set.remove(3)                  # Remove element\n",
    "print(\"remove\", my_set)\n",
    "my_set.discard(10)                # Remove if exists, else ignore\n",
    "print(\"discard\", my_set)\n",
    "my_set.update([6, 7])             # Add multiple elements\n",
    "print(\"union\",my_set.union({8, 9}))       # Union of sets\n",
    "print(\"intersection\",my_set.intersection({2, 6}))# Common elements\n",
    "print(\"difference\",my_set.difference({1, 7}))  # Elements not in other set\n",
    "print(\"set\",my_set)"
   ]
  },
  {
   "cell_type": "code",
   "execution_count": null,
   "metadata": {},
   "outputs": [
    {
     "ename": "TypeError",
     "evalue": "'tuple' object does not support item assignment",
     "output_type": "error",
     "traceback": [
      "\u001b[1;31m---------------------------------------------------------------------------\u001b[0m",
      "\u001b[1;31mTypeError\u001b[0m                                 Traceback (most recent call last)",
      "Cell \u001b[1;32mIn[9], line 2\u001b[0m\n\u001b[0;32m      1\u001b[0m my_tuple \u001b[38;5;241m=\u001b[39m (\u001b[38;5;241m100\u001b[39m, \u001b[38;5;241m200\u001b[39m, \u001b[38;5;241m300\u001b[39m, \u001b[38;5;241m200\u001b[39m)\n\u001b[1;32m----> 2\u001b[0m \u001b[43mmy_tuple\u001b[49m\u001b[43m[\u001b[49m\u001b[38;5;241;43m0\u001b[39;49m\u001b[43m]\u001b[49m\u001b[38;5;241m=\u001b[39m\u001b[38;5;241m300\u001b[39m\n\u001b[0;32m      4\u001b[0m \u001b[38;5;66;03m# Useful methods (very limited since tuple is immutable)\u001b[39;00m\n\u001b[0;32m      5\u001b[0m \u001b[38;5;28mprint\u001b[39m(my_tuple\u001b[38;5;241m.\u001b[39mindex(\u001b[38;5;241m200\u001b[39m))    \u001b[38;5;66;03m# First index of value\u001b[39;00m\n",
      "\u001b[1;31mTypeError\u001b[0m: 'tuple' object does not support item assignment"
     ]
    }
   ],
   "source": [
    "my_tuple = (100, 200, 300, 200)\n",
    "# my_tuple[0]=300  error ('tuple' object does not support item assignment)\n",
    "\n",
    "# Useful methods (very limited since tuple is immutable)\n",
    "print(my_tuple.index(200))    # First index of value\n",
    "print(my_tuple.count(200))    # Count of value\n",
    "print(my_tuple)"
   ]
  },
  {
   "cell_type": "code",
   "execution_count": 10,
   "metadata": {},
   "outputs": [
    {
     "name": "stdout",
     "output_type": "stream",
     "text": [
      "Alice\n",
      "dict_keys(['name', 'age', 'city', 'email'])\n",
      "dict_values(['Alice', 26, 'Lahore', 'alice@example.com'])\n",
      "dict_items([('name', 'Alice'), ('age', 26), ('city', 'Lahore'), ('email', 'alice@example.com')])\n",
      "{'name': 'Alice', 'age': 26, 'email': 'alice@example.com'}\n"
     ]
    }
   ],
   "source": [
    "my_dict = {'name': 'Alice', 'age': 25, 'city': 'Lahore'}\n",
    "\n",
    "# Useful methods\n",
    "my_dict['email'] = 'alice@example.com'         # Add/update key\n",
    "my_dict.update({'age': 26})                    # Update value\n",
    "print(my_dict.get('name'))                     # Get value safely\n",
    "print(my_dict.keys())                          # All keys\n",
    "print(my_dict.values())                        # All values\n",
    "print(my_dict.items())                         # Key-value pairs\n",
    "my_dict.pop('city')                            # Remove key\n",
    "print(my_dict)"
   ]
  }
 ],
 "metadata": {
  "kernelspec": {
   "display_name": "Python 3",
   "language": "python",
   "name": "python3"
  },
  "language_info": {
   "codemirror_mode": {
    "name": "ipython",
    "version": 3
   },
   "file_extension": ".py",
   "mimetype": "text/x-python",
   "name": "python",
   "nbconvert_exporter": "python",
   "pygments_lexer": "ipython3",
   "version": "3.12.7"
  }
 },
 "nbformat": 4,
 "nbformat_minor": 2
}
