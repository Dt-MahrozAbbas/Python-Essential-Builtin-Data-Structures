{
 "cells": [
  {
   "cell_type": "code",
   "execution_count": 4,
   "metadata": {},
   "outputs": [
    {
     "name": "stdout",
     "output_type": "stream",
     "text": [
      "append [10, 20, 30, 40, 20, 20, 20, 50]\n",
      "insert [10, 15, 20, 30, 40, 20, 20, 20, 50]\n",
      "remove [10, 15, 20, 40, 20, 20, 20, 50]\n",
      "pop [10, 15, 20, 40, 20, 20, 20]\n",
      "sort [10, 15, 20, 20, 20, 20, 40]\n",
      "reverse [40, 20, 20, 20, 20, 15, 10]\n",
      "index 1\n",
      "count 4\n",
      "count [40, 20, 20, 20, 20, 15, 10]\n"
     ]
    }
   ],
   "source": [
    "my_list = [10, 20, 30, 40,20,20,20]\n",
    "\n",
    "# Useful methods\n",
    "my_list.append(50)            # Add element at end\n",
    "print(\"append\",my_list)\n",
    "my_list.insert(1, 15)         # Insert at specific position\n",
    "print(\"insert\",my_list)\n",
    "my_list.remove(30)            # Remove specific value\n",
    "print(\"remove\", my_list)\n",
    "my_list.pop()                 # Remove and return last item\n",
    "print(\"pop\", my_list)\n",
    "my_list.sort()                # Sort ascending\n",
    "print(\"sort\", my_list)\n",
    "my_list.reverse()             # Reverse order\n",
    "print(\"reverse\",   my_list)\n",
    "print(\"index\", my_list.index(20))     # Index of first match\n",
    "print(\"count\", my_list.count(20))     # Count occurrences\n",
    "print(\"count\", my_list)"
   ]
  },
  {
   "cell_type": "code",
   "execution_count": 6,
   "metadata": {},
   "outputs": [
    {
     "name": "stdout",
     "output_type": "stream",
     "text": [
      "add {1, 2, 3, 4, 5}\n",
      "remove {1, 2, 4, 5}\n",
      "discard {1, 2, 4, 5}\n",
      "union {1, 2, 4, 5, 6, 7, 8, 9}\n",
      "intersection {2, 6}\n",
      "difference {2, 4, 5, 6}\n",
      "set {1, 2, 4, 5, 6, 7}\n"
     ]
    }
   ],
   "source": [
    "my_set = {1, 2, 3, 4}\n",
    "\n",
    "# Useful methods\n",
    "my_set.add(5)                     # Add element\n",
    "print(\"add\", my_set)\n",
    "my_set.remove(3)                  # Remove element\n",
    "print(\"remove\", my_set)\n",
    "my_set.discard(10)                # Remove if exists, else ignore\n",
    "print(\"discard\", my_set)\n",
    "my_set.update([6, 7])             # Add multiple elements\n",
    "print(\"union\",my_set.union({8, 9}))       # Union of sets\n",
    "print(\"intersection\",my_set.intersection({2, 6}))# Common elements\n",
    "print(\"difference\",my_set.difference({1, 7}))  # Elements not in other set\n",
    "print(\"set\",my_set)"
   ]
  },
  {
   "cell_type": "code",
   "execution_count": null,
   "metadata": {},
   "outputs": [],
   "source": []
  }
 ],
 "metadata": {
  "kernelspec": {
   "display_name": "Python 3",
   "language": "python",
   "name": "python3"
  },
  "language_info": {
   "codemirror_mode": {
    "name": "ipython",
    "version": 3
   },
   "file_extension": ".py",
   "mimetype": "text/x-python",
   "name": "python",
   "nbconvert_exporter": "python",
   "pygments_lexer": "ipython3",
   "version": "3.12.7"
  }
 },
 "nbformat": 4,
 "nbformat_minor": 2
}
